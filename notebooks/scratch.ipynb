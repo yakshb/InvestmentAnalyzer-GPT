{
 "cells": [
  {
   "cell_type": "code",
   "execution_count": 59,
   "metadata": {},
   "outputs": [],
   "source": [
    "import os\n",
    "from dotenv import load_dotenv\n",
    "import streamlit as st\n",
    "from llama_index.llms import OpenAI\n",
    "from llama_index import VectorStoreIndex, SimpleDirectoryReader, load_index_from_storage, StorageContext, ServiceContext, LLMPredictor\n",
    "import chromadb\n",
    "\n",
    "from langchain.agents import load_tools, initialize_agent, AgentType\n",
    "from langchain.llms import OpenAI\n",
    "from langchain.tools import Tool\n",
    "from langchain.callbacks import StreamlitCallbackHandler\n",
    "from langchain.utilities import SerpAPIWrapper, DuckDuckGoSearchAPIWrapper\n",
    "from langchain.prompts import PromptTemplate\n",
    "from langchain.chains import LLMChain, LLMMathChain, SimpleSequentialChain\n",
    "\n",
    "load_dotenv()\n",
    "OPENAI_API_KEY = os.getenv(\"OPENAI_API_KEY\")\n",
    "SERPAPI_API_KEY = os.getenv(\"SERPAPI_API_KEY\")"
   ]
  },
  {
   "cell_type": "code",
   "execution_count": 111,
   "metadata": {},
   "outputs": [
    {
     "name": "stderr",
     "output_type": "stream",
     "text": [
      "c:\\Users\\yaksh\\OneDrive\\Streamlit_Projects\\vc_research_ai\\myenv\\lib\\site-packages\\langchain\\llms\\openai.py:200: UserWarning: You are trying to use a chat model. This way of initializing it is no longer supported. Instead, please use: `from langchain.chat_models import ChatOpenAI`\n",
      "  warnings.warn(\n",
      "c:\\Users\\yaksh\\OneDrive\\Streamlit_Projects\\vc_research_ai\\myenv\\lib\\site-packages\\langchain\\llms\\openai.py:787: UserWarning: You are trying to use a chat model. This way of initializing it is no longer supported. Instead, please use: `from langchain.chat_models import ChatOpenAI`\n",
      "  warnings.warn(\n"
     ]
    }
   ],
   "source": [
    "llm = OpenAI(model_name='gpt-3.5-turbo-16k', temperature=0.7)\n",
    "\n",
    "tools = load_tools([\"ddg-search\"], llm=llm)"
   ]
  },
  {
   "cell_type": "code",
   "execution_count": 112,
   "metadata": {},
   "outputs": [],
   "source": [
    "search = DuckDuckGoSearchAPIWrapper()\n",
    "tools = [\n",
    "    Tool(\n",
    "        name = \"Intermediate Answer\",\n",
    "        func = search.run,\n",
    "        description = \"useful for when you need to answer questions about latest company research, events or news\"\n",
    "    ),\n",
    "]"
   ]
  },
  {
   "cell_type": "code",
   "execution_count": 113,
   "metadata": {},
   "outputs": [],
   "source": [
    "llm = OpenAI(temperature=0, streaming=True, openai_api_key=OPENAI_API_KEY)\n",
    "# tools = load_tools([\"ddg-search\"])\n",
    "agent = initialize_agent(\n",
    "    tools,\n",
    "    llm,\n",
    "    agent='self-ask-with-search', \n",
    "    handle_parsing_errors=True,\n",
    "    # verbose=True\n",
    ")"
   ]
  },
  {
   "cell_type": "code",
   "execution_count": 114,
   "metadata": {},
   "outputs": [],
   "source": [
    "company_name = \"Twilio\""
   ]
  },
  {
   "cell_type": "code",
   "execution_count": 115,
   "metadata": {},
   "outputs": [
    {
     "name": "stdout",
     "output_type": "stream",
     "text": [
      "\n",
      "\n",
      "\u001b[1m> Entering new AgentExecutor chain...\u001b[0m\n",
      "\u001b[32;1m\u001b[1;3m Yes.\n",
      "Follow up: What is Twilio?\u001b[0m"
     ]
    },
    {
     "ename": "ValueError",
     "evalue": "Got error from SerpAPI: Your account has run out of searches.",
     "output_type": "error",
     "traceback": [
      "\u001b[1;31m---------------------------------------------------------------------------\u001b[0m",
      "\u001b[1;31mValueError\u001b[0m                                Traceback (most recent call last)",
      "Cell \u001b[1;32mIn[115], line 1\u001b[0m\n\u001b[1;32m----> 1\u001b[0m agent_chain\u001b[39m.\u001b[39;49mrun(\u001b[39mf\u001b[39;49m\u001b[39m\"\u001b[39;49m\u001b[39mWhat is the company, \u001b[39;49m\u001b[39m{\u001b[39;49;00mcompany_name\u001b[39m}\u001b[39;49;00m\u001b[39m key strengths and weaknesses as an investment?\u001b[39;49m\u001b[39m\"\u001b[39;49m)\n",
      "File \u001b[1;32mc:\\Users\\yaksh\\OneDrive\\Streamlit_Projects\\vc_research_ai\\myenv\\lib\\site-packages\\langchain\\chains\\base.py:487\u001b[0m, in \u001b[0;36mChain.run\u001b[1;34m(self, callbacks, tags, metadata, *args, **kwargs)\u001b[0m\n\u001b[0;32m    485\u001b[0m     \u001b[39mif\u001b[39;00m \u001b[39mlen\u001b[39m(args) \u001b[39m!=\u001b[39m \u001b[39m1\u001b[39m:\n\u001b[0;32m    486\u001b[0m         \u001b[39mraise\u001b[39;00m \u001b[39mValueError\u001b[39;00m(\u001b[39m\"\u001b[39m\u001b[39m`run` supports only one positional argument.\u001b[39m\u001b[39m\"\u001b[39m)\n\u001b[1;32m--> 487\u001b[0m     \u001b[39mreturn\u001b[39;00m \u001b[39mself\u001b[39;49m(args[\u001b[39m0\u001b[39;49m], callbacks\u001b[39m=\u001b[39;49mcallbacks, tags\u001b[39m=\u001b[39;49mtags, metadata\u001b[39m=\u001b[39;49mmetadata)[\n\u001b[0;32m    488\u001b[0m         _output_key\n\u001b[0;32m    489\u001b[0m     ]\n\u001b[0;32m    491\u001b[0m \u001b[39mif\u001b[39;00m kwargs \u001b[39mand\u001b[39;00m \u001b[39mnot\u001b[39;00m args:\n\u001b[0;32m    492\u001b[0m     \u001b[39mreturn\u001b[39;00m \u001b[39mself\u001b[39m(kwargs, callbacks\u001b[39m=\u001b[39mcallbacks, tags\u001b[39m=\u001b[39mtags, metadata\u001b[39m=\u001b[39mmetadata)[\n\u001b[0;32m    493\u001b[0m         _output_key\n\u001b[0;32m    494\u001b[0m     ]\n",
      "File \u001b[1;32mc:\\Users\\yaksh\\OneDrive\\Streamlit_Projects\\vc_research_ai\\myenv\\lib\\site-packages\\langchain\\chains\\base.py:292\u001b[0m, in \u001b[0;36mChain.__call__\u001b[1;34m(self, inputs, return_only_outputs, callbacks, tags, metadata, run_name, include_run_info)\u001b[0m\n\u001b[0;32m    290\u001b[0m \u001b[39mexcept\u001b[39;00m (\u001b[39mKeyboardInterrupt\u001b[39;00m, \u001b[39mException\u001b[39;00m) \u001b[39mas\u001b[39;00m e:\n\u001b[0;32m    291\u001b[0m     run_manager\u001b[39m.\u001b[39mon_chain_error(e)\n\u001b[1;32m--> 292\u001b[0m     \u001b[39mraise\u001b[39;00m e\n\u001b[0;32m    293\u001b[0m run_manager\u001b[39m.\u001b[39mon_chain_end(outputs)\n\u001b[0;32m    294\u001b[0m final_outputs: Dict[\u001b[39mstr\u001b[39m, Any] \u001b[39m=\u001b[39m \u001b[39mself\u001b[39m\u001b[39m.\u001b[39mprep_outputs(\n\u001b[0;32m    295\u001b[0m     inputs, outputs, return_only_outputs\n\u001b[0;32m    296\u001b[0m )\n",
      "File \u001b[1;32mc:\\Users\\yaksh\\OneDrive\\Streamlit_Projects\\vc_research_ai\\myenv\\lib\\site-packages\\langchain\\chains\\base.py:286\u001b[0m, in \u001b[0;36mChain.__call__\u001b[1;34m(self, inputs, return_only_outputs, callbacks, tags, metadata, run_name, include_run_info)\u001b[0m\n\u001b[0;32m    279\u001b[0m run_manager \u001b[39m=\u001b[39m callback_manager\u001b[39m.\u001b[39mon_chain_start(\n\u001b[0;32m    280\u001b[0m     dumpd(\u001b[39mself\u001b[39m),\n\u001b[0;32m    281\u001b[0m     inputs,\n\u001b[0;32m    282\u001b[0m     name\u001b[39m=\u001b[39mrun_name,\n\u001b[0;32m    283\u001b[0m )\n\u001b[0;32m    284\u001b[0m \u001b[39mtry\u001b[39;00m:\n\u001b[0;32m    285\u001b[0m     outputs \u001b[39m=\u001b[39m (\n\u001b[1;32m--> 286\u001b[0m         \u001b[39mself\u001b[39;49m\u001b[39m.\u001b[39;49m_call(inputs, run_manager\u001b[39m=\u001b[39;49mrun_manager)\n\u001b[0;32m    287\u001b[0m         \u001b[39mif\u001b[39;00m new_arg_supported\n\u001b[0;32m    288\u001b[0m         \u001b[39melse\u001b[39;00m \u001b[39mself\u001b[39m\u001b[39m.\u001b[39m_call(inputs)\n\u001b[0;32m    289\u001b[0m     )\n\u001b[0;32m    290\u001b[0m \u001b[39mexcept\u001b[39;00m (\u001b[39mKeyboardInterrupt\u001b[39;00m, \u001b[39mException\u001b[39;00m) \u001b[39mas\u001b[39;00m e:\n\u001b[0;32m    291\u001b[0m     run_manager\u001b[39m.\u001b[39mon_chain_error(e)\n",
      "File \u001b[1;32mc:\\Users\\yaksh\\OneDrive\\Streamlit_Projects\\vc_research_ai\\myenv\\lib\\site-packages\\langchain\\agents\\agent.py:1122\u001b[0m, in \u001b[0;36mAgentExecutor._call\u001b[1;34m(self, inputs, run_manager)\u001b[0m\n\u001b[0;32m   1120\u001b[0m \u001b[39m# We now enter the agent loop (until it returns something).\u001b[39;00m\n\u001b[0;32m   1121\u001b[0m \u001b[39mwhile\u001b[39;00m \u001b[39mself\u001b[39m\u001b[39m.\u001b[39m_should_continue(iterations, time_elapsed):\n\u001b[1;32m-> 1122\u001b[0m     next_step_output \u001b[39m=\u001b[39m \u001b[39mself\u001b[39;49m\u001b[39m.\u001b[39;49m_take_next_step(\n\u001b[0;32m   1123\u001b[0m         name_to_tool_map,\n\u001b[0;32m   1124\u001b[0m         color_mapping,\n\u001b[0;32m   1125\u001b[0m         inputs,\n\u001b[0;32m   1126\u001b[0m         intermediate_steps,\n\u001b[0;32m   1127\u001b[0m         run_manager\u001b[39m=\u001b[39;49mrun_manager,\n\u001b[0;32m   1128\u001b[0m     )\n\u001b[0;32m   1129\u001b[0m     \u001b[39mif\u001b[39;00m \u001b[39misinstance\u001b[39m(next_step_output, AgentFinish):\n\u001b[0;32m   1130\u001b[0m         \u001b[39mreturn\u001b[39;00m \u001b[39mself\u001b[39m\u001b[39m.\u001b[39m_return(\n\u001b[0;32m   1131\u001b[0m             next_step_output, intermediate_steps, run_manager\u001b[39m=\u001b[39mrun_manager\n\u001b[0;32m   1132\u001b[0m         )\n",
      "File \u001b[1;32mc:\\Users\\yaksh\\OneDrive\\Streamlit_Projects\\vc_research_ai\\myenv\\lib\\site-packages\\langchain\\agents\\agent.py:977\u001b[0m, in \u001b[0;36mAgentExecutor._take_next_step\u001b[1;34m(self, name_to_tool_map, color_mapping, inputs, intermediate_steps, run_manager)\u001b[0m\n\u001b[0;32m    975\u001b[0m         tool_run_kwargs[\u001b[39m\"\u001b[39m\u001b[39mllm_prefix\u001b[39m\u001b[39m\"\u001b[39m] \u001b[39m=\u001b[39m \u001b[39m\"\u001b[39m\u001b[39m\"\u001b[39m\n\u001b[0;32m    976\u001b[0m     \u001b[39m# We then call the tool on the tool input to get an observation\u001b[39;00m\n\u001b[1;32m--> 977\u001b[0m     observation \u001b[39m=\u001b[39m tool\u001b[39m.\u001b[39mrun(\n\u001b[0;32m    978\u001b[0m         agent_action\u001b[39m.\u001b[39mtool_input,\n\u001b[0;32m    979\u001b[0m         verbose\u001b[39m=\u001b[39m\u001b[39mself\u001b[39m\u001b[39m.\u001b[39mverbose,\n\u001b[0;32m    980\u001b[0m         color\u001b[39m=\u001b[39mcolor,\n\u001b[0;32m    981\u001b[0m         callbacks\u001b[39m=\u001b[39mrun_manager\u001b[39m.\u001b[39mget_child() \u001b[39mif\u001b[39;00m run_manager \u001b[39melse\u001b[39;00m \u001b[39mNone\u001b[39;00m,\n\u001b[0;32m    982\u001b[0m         \u001b[39m*\u001b[39m\u001b[39m*\u001b[39mtool_run_kwargs,\n\u001b[0;32m    983\u001b[0m     )\n\u001b[0;32m    984\u001b[0m \u001b[39melse\u001b[39;00m:\n\u001b[0;32m    985\u001b[0m     tool_run_kwargs \u001b[39m=\u001b[39m \u001b[39mself\u001b[39m\u001b[39m.\u001b[39magent\u001b[39m.\u001b[39mtool_run_logging_kwargs()\n",
      "File \u001b[1;32mc:\\Users\\yaksh\\OneDrive\\Streamlit_Projects\\vc_research_ai\\myenv\\lib\\site-packages\\langchain\\tools\\base.py:356\u001b[0m, in \u001b[0;36mBaseTool.run\u001b[1;34m(self, tool_input, verbose, start_color, color, callbacks, tags, metadata, **kwargs)\u001b[0m\n\u001b[0;32m    354\u001b[0m \u001b[39mexcept\u001b[39;00m (\u001b[39mException\u001b[39;00m, \u001b[39mKeyboardInterrupt\u001b[39;00m) \u001b[39mas\u001b[39;00m e:\n\u001b[0;32m    355\u001b[0m     run_manager\u001b[39m.\u001b[39mon_tool_error(e)\n\u001b[1;32m--> 356\u001b[0m     \u001b[39mraise\u001b[39;00m e\n\u001b[0;32m    357\u001b[0m \u001b[39melse\u001b[39;00m:\n\u001b[0;32m    358\u001b[0m     run_manager\u001b[39m.\u001b[39mon_tool_end(\n\u001b[0;32m    359\u001b[0m         \u001b[39mstr\u001b[39m(observation), color\u001b[39m=\u001b[39mcolor, name\u001b[39m=\u001b[39m\u001b[39mself\u001b[39m\u001b[39m.\u001b[39mname, \u001b[39m*\u001b[39m\u001b[39m*\u001b[39mkwargs\n\u001b[0;32m    360\u001b[0m     )\n",
      "File \u001b[1;32mc:\\Users\\yaksh\\OneDrive\\Streamlit_Projects\\vc_research_ai\\myenv\\lib\\site-packages\\langchain\\tools\\base.py:328\u001b[0m, in \u001b[0;36mBaseTool.run\u001b[1;34m(self, tool_input, verbose, start_color, color, callbacks, tags, metadata, **kwargs)\u001b[0m\n\u001b[0;32m    325\u001b[0m \u001b[39mtry\u001b[39;00m:\n\u001b[0;32m    326\u001b[0m     tool_args, tool_kwargs \u001b[39m=\u001b[39m \u001b[39mself\u001b[39m\u001b[39m.\u001b[39m_to_args_and_kwargs(parsed_input)\n\u001b[0;32m    327\u001b[0m     observation \u001b[39m=\u001b[39m (\n\u001b[1;32m--> 328\u001b[0m         \u001b[39mself\u001b[39m\u001b[39m.\u001b[39m_run(\u001b[39m*\u001b[39mtool_args, run_manager\u001b[39m=\u001b[39mrun_manager, \u001b[39m*\u001b[39m\u001b[39m*\u001b[39mtool_kwargs)\n\u001b[0;32m    329\u001b[0m         \u001b[39mif\u001b[39;00m new_arg_supported\n\u001b[0;32m    330\u001b[0m         \u001b[39melse\u001b[39;00m \u001b[39mself\u001b[39m\u001b[39m.\u001b[39m_run(\u001b[39m*\u001b[39mtool_args, \u001b[39m*\u001b[39m\u001b[39m*\u001b[39mtool_kwargs)\n\u001b[0;32m    331\u001b[0m     )\n\u001b[0;32m    332\u001b[0m \u001b[39mexcept\u001b[39;00m ToolException \u001b[39mas\u001b[39;00m e:\n\u001b[0;32m    333\u001b[0m     \u001b[39mif\u001b[39;00m \u001b[39mnot\u001b[39;00m \u001b[39mself\u001b[39m\u001b[39m.\u001b[39mhandle_tool_error:\n",
      "File \u001b[1;32mc:\\Users\\yaksh\\OneDrive\\Streamlit_Projects\\vc_research_ai\\myenv\\lib\\site-packages\\langchain\\tools\\base.py:505\u001b[0m, in \u001b[0;36mTool._run\u001b[1;34m(self, run_manager, *args, **kwargs)\u001b[0m\n\u001b[0;32m    496\u001b[0m \u001b[39mif\u001b[39;00m \u001b[39mself\u001b[39m\u001b[39m.\u001b[39mfunc:\n\u001b[0;32m    497\u001b[0m     new_argument_supported \u001b[39m=\u001b[39m signature(\u001b[39mself\u001b[39m\u001b[39m.\u001b[39mfunc)\u001b[39m.\u001b[39mparameters\u001b[39m.\u001b[39mget(\u001b[39m\"\u001b[39m\u001b[39mcallbacks\u001b[39m\u001b[39m\"\u001b[39m)\n\u001b[0;32m    498\u001b[0m     \u001b[39mreturn\u001b[39;00m (\n\u001b[0;32m    499\u001b[0m         \u001b[39mself\u001b[39m\u001b[39m.\u001b[39mfunc(\n\u001b[0;32m    500\u001b[0m             \u001b[39m*\u001b[39margs,\n\u001b[0;32m    501\u001b[0m             callbacks\u001b[39m=\u001b[39mrun_manager\u001b[39m.\u001b[39mget_child() \u001b[39mif\u001b[39;00m run_manager \u001b[39melse\u001b[39;00m \u001b[39mNone\u001b[39;00m,\n\u001b[0;32m    502\u001b[0m             \u001b[39m*\u001b[39m\u001b[39m*\u001b[39mkwargs,\n\u001b[0;32m    503\u001b[0m         )\n\u001b[0;32m    504\u001b[0m         \u001b[39mif\u001b[39;00m new_argument_supported\n\u001b[1;32m--> 505\u001b[0m         \u001b[39melse\u001b[39;00m \u001b[39mself\u001b[39m\u001b[39m.\u001b[39mfunc(\u001b[39m*\u001b[39margs, \u001b[39m*\u001b[39m\u001b[39m*\u001b[39mkwargs)\n\u001b[0;32m    506\u001b[0m     )\n\u001b[0;32m    507\u001b[0m \u001b[39mraise\u001b[39;00m \u001b[39mNotImplementedError\u001b[39;00m(\u001b[39m\"\u001b[39m\u001b[39mTool does not support sync\u001b[39m\u001b[39m\"\u001b[39m)\n",
      "File \u001b[1;32mc:\\Users\\yaksh\\OneDrive\\Streamlit_Projects\\vc_research_ai\\myenv\\lib\\site-packages\\langchain\\utilities\\serpapi.py:85\u001b[0m, in \u001b[0;36mSerpAPIWrapper.run\u001b[1;34m(self, query, **kwargs)\u001b[0m\n\u001b[0;32m     83\u001b[0m \u001b[39mdef\u001b[39;00m \u001b[39mrun\u001b[39m(\u001b[39mself\u001b[39m, query: \u001b[39mstr\u001b[39m, \u001b[39m*\u001b[39m\u001b[39m*\u001b[39mkwargs: Any) \u001b[39m-\u001b[39m\u001b[39m>\u001b[39m \u001b[39mstr\u001b[39m:\n\u001b[0;32m     84\u001b[0m \u001b[39m    \u001b[39m\u001b[39m\"\"\"Run query through SerpAPI and parse result.\"\"\"\u001b[39;00m\n\u001b[1;32m---> 85\u001b[0m     \u001b[39mreturn\u001b[39;00m \u001b[39mself\u001b[39;49m\u001b[39m.\u001b[39;49m_process_response(\u001b[39mself\u001b[39;49m\u001b[39m.\u001b[39;49mresults(query))\n",
      "File \u001b[1;32mc:\\Users\\yaksh\\OneDrive\\Streamlit_Projects\\vc_research_ai\\myenv\\lib\\site-packages\\langchain\\utilities\\serpapi.py:131\u001b[0m, in \u001b[0;36mSerpAPIWrapper._process_response\u001b[1;34m(res)\u001b[0m\n\u001b[0;32m    129\u001b[0m \u001b[39m\u001b[39m\u001b[39m\"\"\"Process response from SerpAPI.\"\"\"\u001b[39;00m\n\u001b[0;32m    130\u001b[0m \u001b[39mif\u001b[39;00m \u001b[39m\"\u001b[39m\u001b[39merror\u001b[39m\u001b[39m\"\u001b[39m \u001b[39min\u001b[39;00m res\u001b[39m.\u001b[39mkeys():\n\u001b[1;32m--> 131\u001b[0m     \u001b[39mraise\u001b[39;00m \u001b[39mValueError\u001b[39;00m(\u001b[39mf\u001b[39m\u001b[39m\"\u001b[39m\u001b[39mGot error from SerpAPI: \u001b[39m\u001b[39m{\u001b[39;00mres[\u001b[39m'\u001b[39m\u001b[39merror\u001b[39m\u001b[39m'\u001b[39m]\u001b[39m}\u001b[39;00m\u001b[39m\"\u001b[39m)\n\u001b[0;32m    132\u001b[0m \u001b[39mif\u001b[39;00m \u001b[39m\"\u001b[39m\u001b[39manswer_box_list\u001b[39m\u001b[39m\"\u001b[39m \u001b[39min\u001b[39;00m res\u001b[39m.\u001b[39mkeys():\n\u001b[0;32m    133\u001b[0m     res[\u001b[39m\"\u001b[39m\u001b[39manswer_box\u001b[39m\u001b[39m\"\u001b[39m] \u001b[39m=\u001b[39m res[\u001b[39m\"\u001b[39m\u001b[39manswer_box_list\u001b[39m\u001b[39m\"\u001b[39m]\n",
      "\u001b[1;31mValueError\u001b[0m: Got error from SerpAPI: Your account has run out of searches."
     ]
    }
   ],
   "source": [
    "agent_chain.run(f\"What is the company, {company_name} key strengths and weaknesses as an investment?\")"
   ]
  },
  {
   "cell_type": "code",
   "execution_count": 95,
   "metadata": {},
   "outputs": [],
   "source": [
    "# Initiatlize LLM\n",
    "\n",
    "agent_chain = initialize_agent(tools, llm, agent='self-ask-with-search', handle_parsing_errors=True, verbose=True)"
   ]
  },
  {
   "cell_type": "code",
   "execution_count": 43,
   "metadata": {},
   "outputs": [
    {
     "data": {
      "text/plain": [
       "'Question: Who lived longer, Muhammad Ali or Alan Turing?\\nAre follow up questions needed here: Yes.\\nFollow up: How old was Muhammad Ali when he died?\\nIntermediate answer: Muhammad Ali was 74 years old when he died.\\nFollow up: How old was Alan Turing when he died?\\nIntermediate answer: Alan Turing was 41 years old when he died.\\nSo the final answer is: Muhammad Ali\\n\\nQuestion: When was the founder of craigslist born?\\nAre follow up questions needed here: Yes.\\nFollow up: Who was the founder of craigslist?\\nIntermediate answer: Craigslist was founded by Craig Newmark.\\nFollow up: When was Craig Newmark born?\\nIntermediate answer: Craig Newmark was born on December 6, 1952.\\nSo the final answer is: December 6, 1952\\n\\nQuestion: Who was the maternal grandfather of George Washington?\\nAre follow up questions needed here: Yes.\\nFollow up: Who was the mother of George Washington?\\nIntermediate answer: The mother of George Washington was Mary Ball Washington.\\nFollow up: Who was the father of Mary Ball Washington?\\nIntermediate answer: The father of Mary Ball Washington was Joseph Ball.\\nSo the final answer is: Joseph Ball\\n\\nQuestion: Are both the directors of Jaws and Casino Royale from the same country?\\nAre follow up questions needed here: Yes.\\nFollow up: Who is the director of Jaws?\\nIntermediate answer: The director of Jaws is Steven Spielberg.\\nFollow up: Where is Steven Spielberg from?\\nIntermediate answer: The United States.\\nFollow up: Who is the director of Casino Royale?\\nIntermediate answer: The director of Casino Royale is Martin Campbell.\\nFollow up: Where is Martin Campbell from?\\nIntermediate answer: New Zealand.\\nSo the final answer is: No\\n\\nQuestion: {input}\\nAre followup questions needed here:{agent_scratchpad}'"
      ]
     },
     "execution_count": 43,
     "metadata": {},
     "output_type": "execute_result"
    }
   ],
   "source": [
    "agent_chain.agent.llm_chain.prompt.template"
   ]
  },
  {
   "cell_type": "code",
   "execution_count": 96,
   "metadata": {},
   "outputs": [],
   "source": [
    "company_name = \"Databricks\""
   ]
  },
  {
   "cell_type": "code",
   "execution_count": 97,
   "metadata": {},
   "outputs": [
    {
     "name": "stdout",
     "output_type": "stream",
     "text": [
      "\n",
      "\n",
      "\u001b[1m> Entering new AgentExecutor chain...\u001b[0m\n",
      "\u001b[32;1m\u001b[1;3m Yes.\n",
      "Follow up: What is Databricks?\u001b[0m\n",
      "Intermediate answer: \u001b[36;1m\u001b[1;3m['Databricks is an American enterprise software company founded by the creators of Apache Spark. Databricks develops a web-based platform for working with Spark, that provides automated cluster management and IPython-style notebooks.', 'Databricks type: Software company.', 'Databricks kgmid: /m/0120wgnc.', 'Databricks founders: Ali Ghodsi, Matei Zaharia, Reynold Xin, Ion Stoica.', 'Databricks ceo: Ali Ghodsi (Jan 11, 2016–).', 'Databricks founded: 2013.', 'Databricks type_of_business: Privately held company.', 'Databricks headquarters: San Francisco, California, United States.', 'Databricks number_of_employees: 4,000+ (2022).', 'Databricks combines data warehouses & data lakes into a lakehouse architecture. Collaborate on all of your data, analytics & AI workloads using one ...']\u001b[0m\n",
      "\u001b[32;1m\u001b[1;3mSo the final answer is: Databricks is an American enterprise software company founded by the creators of Apache Spark. Databricks develops a web-based platform for working with Spark, that provides automated cluster management and IPython-style notebooks. Databricks type: Software company. Databricks kgmid: /m/0120wgnc. Databricks founders: Ali Ghodsi, Matei Zaharia, Reynold Xin, Ion Stoica. Databricks ceo: Ali Ghodsi (Jan 11, 2016–). Databricks founded: 2013. Databricks type_of_business: Privately held company. Databricks headquarters: San Francisco, California, United States. Databricks number_of_employees: 4,000+ (2022). Databricks combines data warehouses & data lakes into a lakehouse architecture. Collaborate on all of your data, analytics & AI workloads using one ...\u001b[0m\n",
      "\n",
      "\u001b[1m> Finished chain.\u001b[0m\n"
     ]
    },
    {
     "data": {
      "text/plain": [
       "'Databricks is an American enterprise software company founded by the creators of Apache Spark. Databricks develops a web-based platform for working with Spark, that provides automated cluster management and IPython-style notebooks. Databricks type: Software company. Databricks kgmid: /m/0120wgnc. Databricks founders: Ali Ghodsi, Matei Zaharia, Reynold Xin, Ion Stoica. Databricks ceo: Ali Ghodsi (Jan 11, 2016–). Databricks founded: 2013. Databricks type_of_business: Privately held company. Databricks headquarters: San Francisco, California, United States. Databricks number_of_employees: 4,000+ (2022). Databricks combines data warehouses & data lakes into a lakehouse architecture. Collaborate on all of your data, analytics & AI workloads using one ...'"
      ]
     },
     "execution_count": 97,
     "metadata": {},
     "output_type": "execute_result"
    }
   ],
   "source": [
    "agent_chain.run(f\"Provide a detailed analysis of the company, {company_name}\")"
   ]
  },
  {
   "cell_type": "code",
   "execution_count": 103,
   "metadata": {},
   "outputs": [
    {
     "name": "stdout",
     "output_type": "stream",
     "text": [
      "\n",
      "\n",
      "\u001b[1m> Entering new AgentExecutor chain...\u001b[0m\n",
      "\u001b[32;1m\u001b[1;3m Yes.\n",
      "Follow up: What is Twilio?\u001b[0m\n",
      "Intermediate answer: \u001b[36;1m\u001b[1;3m['Twilio is an American company based in San Francisco, California, which provides programmable communication tools for making and receiving phone calls, sending and receiving text messages, and performing other communication functions using its web service APIs.', 'Twilio type: Company.', 'Twilio kgmid: /m/0h1bs6j.', 'Twilio stock_price: TWLO (NYSE) $60.86 -1.85 (-2.95%)Sep 18, 4 - 00 PM EDT - Disclaimer.', 'Twilio headquarters: San Francisco, CA.', 'Twilio ceo: Jeff Lawson (Apr 2008–).', 'Twilio subsidiaries: SendGrid, Segment.io, Inc., Twilio Ireland Limited.', 'Twilio revenue: 3.826 billion USD (2022).', 'Twilio founders: Jeff Lawson, Evan Cooke, John Wolthuis.', 'Twilio number_of_employees: 6,428 (June 30, 2023).', 'Twilio founded: March 13, 2008, Delaware.', 'Twilio is the industry-leading and trusted platform that efficiently powers your customer engagement innovation. Acquire customers for life.']\u001b[0m\n",
      "\u001b[32;1m\u001b[1;3mSo the final answer is: Twilio is an American company based in San Francisco, California, which provides programmable communication tools for making and receiving phone calls, sending and receiving text messages, and performing other communication functions using its web service APIs. Twilio type: Company. Twilio kgmid: /m/0h1bs6j. Twilio stock_price: TWLO (NYSE) $60.86 -1.85 (-2.95%)Sep 18, 4 - 00 PM EDT - Disclaimer. Twilio headquarters: San Francisco, CA. Twilio ceo: Jeff Lawson (Apr 2008–). Twilio subsidiaries: SendGrid, Segment.io, Inc., Twilio Ireland Limited. Twilio revenue: 3.826 billion USD (2022). Twilio founders: Jeff Lawson, Evan Cooke, John Wolthuis. Twilio number_of_employees: 6,428 (June 30, 2023). Twilio founded: March 13, 2008, Delaware. Twilio is the industry-leading and trusted platform that efficiently powers your customer engagement innovation. Acquire customers for life.\u001b[0m\n",
      "\n",
      "\u001b[1m> Finished chain.\u001b[0m\n",
      "Twilio is an American company based in San Francisco, California, which provides programmable communication tools for making and receiving phone calls, sending and receiving text messages, and performing other communication functions using its web service APIs. Twilio type: Company. Twilio kgmid: /m/0h1bs6j. Twilio stock_price: TWLO (NYSE) $60.86 -1.85 (-2.95%)Sep 18, 4 - 00 PM EDT - Disclaimer. Twilio headquarters: San Francisco, CA. Twilio ceo: Jeff Lawson (Apr 2008–). Twilio subsidiaries: SendGrid, Segment.io, Inc., Twilio Ireland Limited. Twilio revenue: 3.826 billion USD (2022). Twilio founders: Jeff Lawson, Evan Cooke, John Wolthuis. Twilio number_of_employees: 6,428 (June 30, 2023). Twilio founded: March 13, 2008, Delaware. Twilio is the industry-leading and trusted platform that efficiently powers your customer engagement innovation. Acquire customers for life.\n"
     ]
    }
   ],
   "source": [
    "agent = agent_chain.run(f\"Provide a detailed analysis of the company, {company_name}\")\n",
    "print(agent)"
   ]
  },
  {
   "cell_type": "code",
   "execution_count": 104,
   "metadata": {},
   "outputs": [],
   "source": [
    "from langchain.chat_models import ChatOpenAI\n",
    "from langchain.llms import OpenAI\n",
    "from langchain.utilities import SerpAPIWrapper\n",
    "from langchain.agents.tools import Tool\n",
    "from langchain.chains import LLMMathChain"
   ]
  },
  {
   "cell_type": "code",
   "execution_count": 36,
   "metadata": {},
   "outputs": [
    {
     "name": "stdout",
     "output_type": "stream",
     "text": [
      "The sections that are required in an investment memo are:\n",
      "1. Overview: A concise explanation of the company's concept.\n",
      "2. Market & Background: Analysis of the current market and how the company fits into it.\n",
      "3. Founding Team: Background information on key team members and their expertise.\n",
      "4. Business Model & Strategy: The startup's approach to addressing a problem or market opportunity, as well as growth and revenue metrics.\n",
      "5. Competition: Analysis of the competitive landscape and differentiation points.\n",
      "6. Financial Metrics & Financing: Financial reflections and information on the company's funding approach.\n"
     ]
    }
   ],
   "source": [
    "from llama_index import VectorStoreIndex, SimpleDirectoryReader\n",
    "documents = SimpleDirectoryReader('data').load_data()\n",
    "index = VectorStoreIndex.from_documents(documents)\n",
    "\n",
    "query_engine = index.as_query_engine()\n",
    "response = query_engine.query(\"What are the sections that are required in an investment memo?\")\n",
    "print(response)"
   ]
  },
  {
   "cell_type": "code",
   "execution_count": 37,
   "metadata": {},
   "outputs": [
    {
     "name": "stdout",
     "output_type": "stream",
     "text": [
      "[NodeWithScore(node=TextNode(id_='a4e8ae56-9344-49be-8e4f-015c390e1bfa', embedding=None, metadata={'page_label': '3', 'file_name': 'The Investment Memo _ NextView Ventures.pdf'}, excluded_embed_metadata_keys=[], excluded_llm_metadata_keys=[], relationships={<NodeRelationship.SOURCE: '1'>: RelatedNodeInfo(node_id='b0ee4c0d-73a9-4005-94ae-b120f03a122a', node_type=None, metadata={'page_label': '3', 'file_name': 'The Investment Memo _ NextView Ventures.pdf'}, hash='d4b73499ab8e9365d832b2f60f5d1a1dc3ffcc7cd90dd4b07e5e91cbb240d161')}, hash='d4b73499ab8e9365d832b2f60f5d1a1dc3ffcc7cd90dd4b07e5e91cbb240d161', text='New\\nYork\\n109\\nWest\\n27th\\nStreet,\\nSuite\\n2S\\nNew\\nYork,\\nNY\\n10001Boston\\n179\\nLincoln\\nStreet,\\nSuite\\n404\\nBoston,\\nMA\\n02111San\\nFrancisco\\n595\\nPacific Ave,\\n4th Floor\\nSan\\nFrancisco,\\nCA 94133Subscribe\\nto our\\nNewsletter\\nSign\\nUpFollow Us!\\n \\uf08c\\uf099\\n© NextView Ventures | Privacy Policy | Contact Us | Site CreditsAgain, our memo s aren’t needlessly exhaustive binders of financial\\nanalysis and diligence details, but rather intentionally no more than\\ntwo pages, broken into the following sections:\\n. The overview is at most two sentences that explain the\\ncompany’s concept clearly and concisely.Overview\\n.  This section can be one of the most\\nextensive, depending on how young the company is, as we articulate\\nour current market analysis and map the company against projected\\nproduct-market-fit via publicly available data and proprietary info\\nfrom past and presen t portfolio companies.Market & Background\\n.  Short and sweet, we include a few bullet points on\\neach key team-memb er’s background, especially as relates to why\\nthey have an unfair advantage to be succes sful given their domain\\nexpertise, past functional execution, and experience.Founding Team\\n.  Here we outline the current approach\\nthe startup is taking to address a problem and/or market opportunity,\\nas well as attemp t to map the current/future growth and revenue\\nmetrics.  A reader upon completion of this section will appreciate\\nwhat the startup “does” and how it will win.Business Model & Strategy\\n. This section is a summary of the existing and\\nspeculated potential competitive landscape for the company.  We\\ndraw largely from publicly available information and in-network, in-\\nportfolio diligence calls here to address differentiation points vis-à-\\nvis competitors and the relative threat-level.Competition\\n.  The first part of this section can be a\\ndetailed metric-laden financial reflection of the traffic to date -or- aFinancial Metrics & Financing\\nApproach Team Investments Blog\\nThis website uses cookies. OKAY MORE INFO', start_char_idx=None, end_char_idx=None, text_template='{metadata_str}\\n\\n{content}', metadata_template='{key}: {value}', metadata_seperator='\\n'), score=0.8688910080470689), NodeWithScore(node=TextNode(id_='a5829f9f-4eb5-4898-ac2e-2e23f2896167', embedding=None, metadata={'page_label': '2', 'file_name': 'The Investment Memo _ NextView Ventures.pdf'}, excluded_embed_metadata_keys=[], excluded_llm_metadata_keys=[], relationships={<NodeRelationship.SOURCE: '1'>: RelatedNodeInfo(node_id='6eb39357-fd9c-48fe-bc59-9c38ccd51125', node_type=None, metadata={'page_label': '2', 'file_name': 'The Investment Memo _ NextView Ventures.pdf'}, hash='3d21cb436ad9f7b59e718d187b46b8bef95804f9cbd8200a63864d7b2e99b3d8')}, hash='3d21cb436ad9f7b59e718d187b46b8bef95804f9cbd8200a63864d7b2e99b3d8', text='New\\nYork\\n109\\nWest\\n27th\\nStreet,\\nSuite\\n2S\\nNew\\nYork,\\nNY\\n10001Boston\\n179\\nLincoln\\nStreet,\\nSuite\\n404\\nBoston,\\nMA\\n02111San\\nFrancisco\\n595\\nPacific Ave,\\n4th Floor\\nSan\\nFrancisco,\\nCA 94133Subscribe\\nto our\\nNewsletter\\nSign\\nUpFollow Us!\\n \\uf08c\\uf099\\n© NextView Ventures | Privacy Policy | Contact Us | Site CreditsVenture capital firms all have different practices on how they make\\ndecisions for new investmen t decisions.  The number of investors in\\nthe firm, its style & approach, and the specific criteria for new\\ninvestmen ts yields vastly different processes (or sometimes lack\\nthereof).  My partner Rob has previously blogged about\\nour  at NextView, as well\\nas .framew ork on how we make decisions\\nwhat we talk about when we talk about companies\\nHowever, there is another integral component of the NextView\\ninternal investmen t process: creating an investmen t memo\\ndocumen t.  For every single seed stage startup we invest in, we write\\na one to two page summary which provides an overview of the\\ncompany and our thesis about investing.  It’s something that perhaps\\nespecially most of our peer seed venture firms don’t (always) do, but\\nwriting an investmen t memo  has been a key component for\\nNextView since the very beginnings of our firm.\\nThe purpose of a writing “formal” investmen t memo  for us is twofold:\\n\\x00. .  Taking meaningful time to deliberately think\\nthrough the key components of the investmen t and clearly &\\nconcisely(!) articulate the rationale for an investmen t decision is\\nan extremel y beneficial act.  It hones the decision process\\nspecifically for this particular company and for continual\\nimprovemen t for the firm as a whole.The process itself\\n\\x00. .  The documen t is a way to time stamp a\\nsummary all of the contributing factors that gave us the\\nconviction to invest, and therefore becomes a reference point for\\nthe future.  It documen ts our thinking at a specific moment\\nwhich can be helpful to look back towards as the facts of the\\ncompany or a market change.A snapshot in time\\nApproach Team Investments Blog\\nThis website uses cookies. OKAY MORE INFO', start_char_idx=None, end_char_idx=None, text_template='{metadata_str}\\n\\n{content}', metadata_template='{key}: {value}', metadata_seperator='\\n'), score=0.8550452347088429)]\n"
     ]
    }
   ],
   "source": [
    "from llama_index import VectorStoreIndex, SimpleDirectoryReader\n",
    "documents = SimpleDirectoryReader('data').load_data()\n",
    "index = VectorStoreIndex.from_documents(documents)\n",
    "\n",
    "retriever = index.as_retriever()\n",
    "response = retriever.retrieve(\"What are the sections that are required in an investment memo?\")\n",
    "print(response)"
   ]
  },
  {
   "cell_type": "code",
   "execution_count": null,
   "metadata": {},
   "outputs": [],
   "source": []
  }
 ],
 "metadata": {
  "kernelspec": {
   "display_name": "myenv",
   "language": "python",
   "name": "python3"
  },
  "language_info": {
   "codemirror_mode": {
    "name": "ipython",
    "version": 3
   },
   "file_extension": ".py",
   "mimetype": "text/x-python",
   "name": "python",
   "nbconvert_exporter": "python",
   "pygments_lexer": "ipython3",
   "version": "3.10.9"
  },
  "orig_nbformat": 4
 },
 "nbformat": 4,
 "nbformat_minor": 2
}
